{
 "cells": [
  {
   "cell_type": "markdown",
   "metadata": {},
   "source": [
    "## Using SafeDrone for collision risk assessment\n",
    "\n",
    "SafeDrone can be used for risk of collision of the drones. It takes the trajectory of the drones as an input, and calculates the risk of collision. \n",
    "\n",
    "The drone consists of three main electrical components that are essential for its operation.\n",
    "1. Motor (Rotor)\n",
    "2. Battery\n",
    "3. Onboard chip\n",
    "\n",
    "In the following, we show an example usage of drone collision risk assessment. "
   ]
  },
  {
   "cell_type": "code",
   "execution_count": 1,
   "metadata": {},
   "outputs": [],
   "source": [
    "import sys\n",
    "import os\n",
    "\n",
    "import inspect\n",
    "\n",
    "from IPython.display import Markdown as md\n",
    "\n",
    "from sys import platform\n",
    "import pandas as pd\n",
    "import numpy as np\n",
    "import random\n",
    "\n",
    "if platform == \"linux\" or platform == \"linux2\":\n",
    "    currentdir = os.path.dirname(os.path.realpath(inspect.getfile(inspect.currentframe())))\n",
    "    parentdir = os.path.dirname(currentdir)\n",
    "    sys.path.insert(0, parentdir)\n",
    "elif platform == \"win32\":\n",
    "    # in Windows, the first path entry contains the directory where the notebook is\n",
    "    sys.path.insert(0, os.path.dirname(sys.path[0]))\n",
    "\n",
    "from SafeDrones.core.SafeDrones import SafeDrones"
   ]
  },
  {
   "cell_type": "code",
   "execution_count": 2,
   "metadata": {},
   "outputs": [],
   "source": [
    "eval = SafeDrones()"
   ]
  },
  {
   "cell_type": "markdown",
   "metadata": {},
   "source": [
    "Initialize the variables . . . .\n",
    "Use $5$ as collision threshold, and $10$ as danger threshold. GPS lambda can be used the default ($0.001$)."
   ]
  },
  {
   "cell_type": "code",
   "execution_count": 3,
   "metadata": {},
   "outputs": [],
   "source": [
    "eval.Set_Variables(collision_threshold=5, danger_threshold=10, GPS_Lambda=0.001)"
   ]
  },
  {
   "cell_type": "markdown",
   "metadata": {},
   "source": [
    "Sample trajectories . . . . "
   ]
  },
  {
   "cell_type": "code",
   "execution_count": 4,
   "metadata": {},
   "outputs": [
    {
     "name": "stdout",
     "output_type": "stream",
     "text": [
      "0.5\n",
      "0.5\n"
     ]
    }
   ],
   "source": [
    "uav_1_trajectory = [(x, 0, 0) for x in range(10)]\n",
    "uav_2_trajectory = [(x, 0, x) for x in range(10)]\n",
    "\n",
    "danger_zone_risk, collision_zone_risk = eval.calculate_collision_risk(uav_1_trajectory, uav_2_trajectory)\n",
    "\n",
    "print(danger_zone_risk)\n",
    "print(collision_zone_risk)"
   ]
  },
  {
   "cell_type": "code",
   "execution_count": 5,
   "metadata": {},
   "outputs": [
    {
     "name": "stdout",
     "output_type": "stream",
     "text": [
      "0.3\n",
      "0.2\n"
     ]
    }
   ],
   "source": [
    "danger_threshold = 5\n",
    "collision_threshold = 2\n",
    "\n",
    "danger_zone_risk, collision_zone_risk = eval.calculate_collision_risk(uav_1_trajectory, uav_2_trajectory, danger_threshold, collision_threshold)\n",
    "\n",
    "print(danger_zone_risk)\n",
    "print(collision_zone_risk)"
   ]
  },
  {
   "cell_type": "markdown",
   "metadata": {},
   "source": [
    "To check the risk of GPS failure, let us first set the satellite status. The satellite status is a number between 0 to 18. Let us randomly assign the the status . . . ."
   ]
  },
  {
   "cell_type": "code",
   "execution_count": 6,
   "metadata": {},
   "outputs": [
    {
     "name": "stdout",
     "output_type": "stream",
     "text": [
      "The satellite status is set as :  8\n"
     ]
    }
   ],
   "source": [
    "sat_status = random.randint(0, 18)\n",
    "eval.Set_Variables(SatStatus = sat_status)\n",
    "print(\"The satellite status is set as : \", sat_status)"
   ]
  },
  {
   "cell_type": "code",
   "execution_count": 7,
   "metadata": {},
   "outputs": [
    {
     "name": "stdout",
     "output_type": "stream",
     "text": [
      "0.172620318489205\n",
      "153.846153846154\n"
     ]
    }
   ],
   "source": [
    "GPS_P_Fail, GPS_MTTF = eval.GPS_Failure_Risk_Calc(time=100)\n",
    "print(GPS_P_Fail)\n",
    "print(GPS_MTTF)"
   ]
  },
  {
   "cell_type": "code",
   "execution_count": 8,
   "metadata": {},
   "outputs": [
    {
     "name": "stdout",
     "output_type": "stream",
     "text": [
      "1.19038762535297e-5\n",
      "1142.85714285714\n"
     ]
    }
   ],
   "source": [
    "GPS_P_Fail, GPS_MTTF = eval.GPS_Failure_Risk_Calc(SatStatus=14, time=100, Lambda = 0.001)\n",
    "print(GPS_P_Fail)\n",
    "print(GPS_MTTF)"
   ]
  },
  {
   "cell_type": "code",
   "execution_count": 9,
   "metadata": {},
   "outputs": [
    {
     "name": "stdout",
     "output_type": "stream",
     "text": [
      "0.0107555729878382\n",
      "363.636363636364\n"
     ]
    }
   ],
   "source": [
    "GPS_P_Fail, GPS_MTTF = eval.GPS_Failure_Risk_Calc(SatStatus=10, time=100, Lambda = 0.001)\n",
    "print(GPS_P_Fail)\n",
    "print(GPS_MTTF)"
   ]
  },
  {
   "cell_type": "code",
   "execution_count": 10,
   "metadata": {},
   "outputs": [
    {
     "name": "stdout",
     "output_type": "stream",
     "text": [
      "1\n",
      "0\n"
     ]
    }
   ],
   "source": [
    "GPS_P_Fail, GPS_MTTF = eval.GPS_Failure_Risk_Calc(SatStatus=0, time=100, Lambda = 0.001)\n",
    "print(GPS_P_Fail)\n",
    "print(GPS_MTTF)"
   ]
  }
 ],
 "metadata": {
  "kernelspec": {
   "display_name": "Python 3",
   "language": "python",
   "name": "python3"
  },
  "language_info": {
   "codemirror_mode": {
    "name": "ipython",
    "version": 3
   },
   "file_extension": ".py",
   "mimetype": "text/x-python",
   "name": "python",
   "nbconvert_exporter": "python",
   "pygments_lexer": "ipython3",
   "version": "3.8.13"
  },
  "orig_nbformat": 4
 },
 "nbformat": 4,
 "nbformat_minor": 2
}
