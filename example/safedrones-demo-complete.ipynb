{
 "cells": [
  {
   "cell_type": "markdown",
   "metadata": {},
   "source": [
    "## Using SafeDrone for reliability and safety modelling\n",
    "\n",
    "SafeDrone is a framework for Reliability/Safety Modelling and Evaluation of Multicopters (Multi-rotor Drones) and Electric powered Vertical TakeOff and Landing (eVTOL) Aircrafts. SafeDrone implement a reliability evaluation approach based on a Markov process.For more information please refer to [this](https://link.springer.com/chapter/10.1007/978-3-030-17771-3_8) work. \n",
    "\n",
    "The drone consists of three main electrical components that are essential for its operation.\n",
    "1. Motor (Rotor)\n",
    "2. Battery\n",
    "3. Onboard chip\n",
    "\n",
    "In the following, we show an example usage of evaluation of reliability for a multi rotor drone system. This is done by predicting the failure probability of the three components.  "
   ]
  },
  {
   "cell_type": "code",
   "execution_count": 1,
   "metadata": {
    "_cell_guid": "b1076dfc-b9ad-4769-8c92-a6c4dae69d19",
    "_uuid": "8f2839f25d086af736a60e9eeb907d3b93b6e0e5",
    "execution": {
     "iopub.execute_input": "2021-07-08T19:38:23.732847Z",
     "iopub.status.busy": "2021-07-08T19:38:23.732509Z",
     "iopub.status.idle": "2021-07-08T19:38:23.737901Z",
     "shell.execute_reply": "2021-07-08T19:38:23.736622Z",
     "shell.execute_reply.started": "2021-07-08T19:38:23.732819Z"
    }
   },
   "outputs": [],
   "source": [
    "import sys\n",
    "import os\n",
    "\n",
    "from IPython.display import Markdown as md\n",
    "\n",
    "from sys import platform\n",
    "\n",
    "if platform == \"linux\" or platform == \"linux2\":\n",
    "    currentdir = os.path.dirname(os.path.realpath(inspect.getfile(inspect.currentframe())))\n",
    "    parentdir = os.path.dirname(currentdir)\n",
    "    sys.path.insert(0, parentdir)\n",
    "elif platform == \"win32\":\n",
    "    # in Windows, the first path entry contains the directory where the notebook is\n",
    "    sys.path.insert(0, os.path.dirname(sys.path[0]))\n",
    "\n",
    "from SafeDrones.core.SafeDrones import SafeDrones"
   ]
  },
  {
   "cell_type": "code",
   "execution_count": 2,
   "metadata": {},
   "outputs": [],
   "source": [
    "eval = SafeDrones()"
   ]
  },
  {
   "cell_type": "markdown",
   "metadata": {},
   "source": [
    "### 1. Motor Failure risk prediction\n",
    "\n",
    "To start, let us evaluate the risk of motor failure. For this, we need to provide motor status as input. This can be either \"0\" for out of order, or \"1\" for operational. This needs to be provided for all the motors present, as an array. For example, for Quadcopters, the status can be given as any array [1, 0, 0, 1]. Which shows that the 2nd and 3rd motor failure. For our example, let us consider a hexacopter with all operational motors, i.e [1,1,1,1,1,1].\n",
    "\n",
    "The next required input is motor configuration. This should be given as a string of length equal to the number of motors, made up of 'P' and 'N'. Where 'P' stands for positive rotion, and 'N' for negative rotation. To start with, let us consider a configuration of hexacopter as 'PNPNPN'.\n",
    "\n",
    "The last two parameters needed are failure rate, and time. Let us consider 0.001 as failure rate and 100 as time. "
   ]
  },
  {
   "cell_type": "code",
   "execution_count": 3,
   "metadata": {
    "execution": {
     "iopub.execute_input": "2021-07-08T19:38:23.773200Z",
     "iopub.status.busy": "2021-07-08T19:38:23.772626Z",
     "iopub.status.idle": "2021-07-08T19:38:24.885679Z",
     "shell.execute_reply": "2021-07-08T19:38:24.884938Z",
     "shell.execute_reply.started": "2021-07-08T19:38:23.773155Z"
    }
   },
   "outputs": [
    {
     "name": "stdout",
     "output_type": "stream",
     "text": [
      "The probability of failure obtained is:  0.0489641066173940\n",
      "The mean time between failure obtained is:  483.333333333333\n"
     ]
    }
   ],
   "source": [
    "P_Fail, MTTF = eval.Motor_Failure_Risk_Calc([1,1,1,1,1,1], 'PNPNPN', 0.001, 100)\n",
    "\n",
    "print(\"The probability of failure obtained is: \", P_Fail)\n",
    "\n",
    "print(\"The mean time between failure obtained is: \", MTTF)"
   ]
  },
  {
   "cell_type": "markdown",
   "metadata": {},
   "source": [
    " Now, let us experiments with different configurations and failure statuses, while keeping the failure rate and the time constant. "
   ]
  },
  {
   "cell_type": "code",
   "execution_count": 4,
   "metadata": {
    "execution": {
     "iopub.execute_input": "2021-07-08T19:38:24.887453Z",
     "iopub.status.busy": "2021-07-08T19:38:24.887030Z",
     "iopub.status.idle": "2021-07-08T19:38:25.911533Z",
     "shell.execute_reply": "2021-07-08T19:38:25.910463Z",
     "shell.execute_reply.started": "2021-07-08T19:38:24.887425Z"
    }
   },
   "outputs": [
    {
     "name": "stdout",
     "output_type": "stream",
     "text": [
      "The probability of failure obtained is:  0.195392392995276\n",
      "The mean time between failure obtained is:  450.000000000000\n"
     ]
    }
   ],
   "source": [
    "P_Fail, MTTF = eval.Motor_Failure_Risk_Calc([0,1,1,1,1,1], 'PNPNPN', 0.001, 100)\n",
    "\n",
    "print(\"The probability of failure obtained is: \", P_Fail)\n",
    "\n",
    "print(\"The mean time between failure obtained is: \", MTTF)"
   ]
  },
  {
   "cell_type": "code",
   "execution_count": 5,
   "metadata": {
    "execution": {
     "iopub.execute_input": "2021-07-08T19:38:25.913239Z",
     "iopub.status.busy": "2021-07-08T19:38:25.912932Z",
     "iopub.status.idle": "2021-07-08T19:38:26.945681Z",
     "shell.execute_reply": "2021-07-08T19:38:26.944826Z",
     "shell.execute_reply.started": "2021-07-08T19:38:25.913210Z"
    }
   },
   "outputs": [
    {
     "name": "stdout",
     "output_type": "stream",
     "text": [
      "The probability of failure obtained is:  0.329679953964361\n",
      "The mean time between failure obtained is:  350.000000000000\n"
     ]
    }
   ],
   "source": [
    "P_Fail, MTTF = eval.Motor_Failure_Risk_Calc([0,1,1,0,1,1], 'PNPNPN', 0.001, 100)\n",
    "\n",
    "print(\"The probability of failure obtained is: \", P_Fail)\n",
    "\n",
    "print(\"The mean time between failure obtained is: \", MTTF)"
   ]
  },
  {
   "cell_type": "code",
   "execution_count": 6,
   "metadata": {
    "execution": {
     "iopub.execute_input": "2021-07-08T19:38:26.947107Z",
     "iopub.status.busy": "2021-07-08T19:38:26.946674Z",
     "iopub.status.idle": "2021-07-08T19:38:27.287437Z",
     "shell.execute_reply": "2021-07-08T19:38:27.286256Z",
     "shell.execute_reply.started": "2021-07-08T19:38:26.947073Z"
    }
   },
   "outputs": [
    {
     "name": "stdout",
     "output_type": "stream",
     "text": [
      "The probability of failure obtained is:  0.196030818613950\n",
      "The mean time between failure obtained is:  416.666666666667\n"
     ]
    }
   ],
   "source": [
    "P_Fail, MTTF = eval.Motor_Failure_Risk_Calc([1,1,1,1,1,1], 'PPNNPN', 0.001, 100)\n",
    "\n",
    "print(\"The probability of failure obtained is: \", P_Fail)\n",
    "\n",
    "print(\"The mean time between failure obtained is: \", MTTF)"
   ]
  },
  {
   "cell_type": "markdown",
   "metadata": {},
   "source": [
    "We can see that the probability of failure is not only dependent on the failure statuses, but also the configuration. Let us extend our experiments to an Octacopter. "
   ]
  },
  {
   "cell_type": "code",
   "execution_count": 7,
   "metadata": {
    "execution": {
     "iopub.execute_input": "2021-07-08T19:38:27.288928Z",
     "iopub.status.busy": "2021-07-08T19:38:27.288653Z",
     "iopub.status.idle": "2021-07-08T19:38:28.161493Z",
     "shell.execute_reply": "2021-07-08T19:38:28.160250Z",
     "shell.execute_reply.started": "2021-07-08T19:38:27.288900Z"
    },
    "scrolled": true
   },
   "outputs": [
    {
     "name": "stdout",
     "output_type": "stream",
     "text": [
      "The probability of failure obtained is:  0.196030818613950\n",
      "The mean time between failure obtained is:  452.380952380952\n"
     ]
    }
   ],
   "source": [
    "P_Fail, MTTF = eval.Motor_Failure_Risk_Calc([1,1,1,1,1,1], 'PPNNPPNN', 0.001, 100)\n",
    "\n",
    "print(\"The probability of failure obtained is: \", P_Fail)\n",
    "\n",
    "print(\"The mean time between failure obtained is: \", MTTF)"
   ]
  },
  {
   "cell_type": "markdown",
   "metadata": {},
   "source": [
    "Now let us check how the reliability of a hexa copter changes over time."
   ]
  },
  {
   "cell_type": "code",
   "execution_count": 8,
   "metadata": {
    "execution": {
     "iopub.execute_input": "2021-07-08T19:38:28.171540Z",
     "iopub.status.busy": "2021-07-08T19:38:28.171245Z",
     "iopub.status.idle": "2021-07-08T20:12:39.406169Z",
     "shell.execute_reply": "2021-07-08T20:12:39.405242Z",
     "shell.execute_reply.started": "2021-07-08T19:38:28.171513Z"
    }
   },
   "outputs": [
    {
     "name": "stderr",
     "output_type": "stream",
     "text": [
      "100%|████████████████████████████████████████████████████████████████████████████████████████████████████████████████████████████████████████████████████| 1000/1000 [36:07<00:00,  2.17s/it]\n"
     ]
    },
    {
     "data": {
      "image/png": "[encoded data removed]",
      "text/plain": [
       "<Figure size 432x288 with 1 Axes>"
      ]
     },
     "metadata": {
      "needs_background": "light"
     },
     "output_type": "display_data"
    }
   ],
   "source": [
    "import matplotlib.pyplot as plt\n",
    "from tqdm import tqdm\n",
    "import numpy as np\n",
    "\n",
    "P_Fail2 = np.zeros(1000)\n",
    "P_Fail3 = np.zeros(1000)\n",
    "MTTF2 = np.zeros(1000)\n",
    "MTTF3 = np.zeros(1000)\n",
    "\n",
    "for ii in tqdm(range(1000)):\n",
    "    P_Fail2[ii], MTTF2[ii] = eval.Motor_Failure_Risk_Calc([1,1,1,1,1,1], 'PNPNPN', 0.001, ii)\n",
    "    P_Fail3[ii], MTTF3[ii] = eval.Motor_Failure_Risk_Calc([0,1,1,1,1,1], 'PNPNPN', 0.001, ii)\n",
    "\n",
    "time = list(range(1000))    \n",
    "plt.plot(time,P_Fail2, label='No Failure',marker='o')\n",
    "plt.plot(time,P_Fail3, label='One Rotor Failure',marker='o')\n",
    "\n",
    "plt.xlabel('Time (hours)')\n",
    "plt.ylabel('Probability')\n",
    "plt.legend()\n",
    "plt.title('Unreliability of PNPNPN Hexacopter vs. Time')\n",
    "plt.grid()\n",
    "plt.show()"
   ]
  },
  {
   "cell_type": "markdown",
   "metadata": {},
   "source": [
    "From the graph, it can be seen that the probability of failure with time is always higher for drone operating with one failed rotor. "
   ]
  },
  {
   "cell_type": "markdown",
   "metadata": {},
   "source": [
    "### 2. Battery Failure risk prediction\n",
    "\n",
    "Now, let us use SafeDrone to predict the failure risk of a battery. The failure risk of battery is modelled using morkov mdoel from [this](https://link.springer.com/chapter/10.1007/978-3-030-32872-6_8) work. The input required are battery level, failure rate, etc. Battery level is an integer between 100 and 0, which indicates charge level. The failure rate, battery charge rate alpha, and discharge rate beta, and the battery degradation rate can be used as default. \n"
   ]
  },
  {
   "cell_type": "code",
   "execution_count": 9,
   "metadata": {},
   "outputs": [
    {
     "name": "stdout",
     "output_type": "stream",
     "text": [
      "The probability of battery failure obtained is:  0.406254458242660\n",
      "The mean time between failure for battery obtained is:  451.737451737452\n"
     ]
    }
   ],
   "source": [
    "P_Fail, MTTF = eval.Battery_Failure_Risk_Calc(80, 100)\n",
    "\n",
    "print(\"The probability of battery failure obtained is: \", P_Fail)\n",
    "\n",
    "print(\"The mean time between failure for battery obtained is: \", MTTF)"
   ]
  },
  {
   "cell_type": "markdown",
   "metadata": {},
   "source": [
    "### 3. Chip model Failure risk prediction\n",
    "\n",
    "Finally, let use predict the failure of chip. Primary source of chip failure is its failure due to temperature. We estimate chip MTTF and failure probability based on dynamic temperature and the time. We use [arrhenius equation](https://en.wikipedia.org/wiki/Arrhenius_equation) to take into account the temperature effect.\n",
    "\n",
    "For our, example, let us consider a battery with rference MTTF as 400, reference temperature as 30, actual temperature as 50, drone utilisation u as 1 (full utilisation), beta constant describing weibull failure distribution as 1 (constant random failure with time), and time as 100."
   ]
  },
  {
   "cell_type": "code",
   "execution_count": 10,
   "metadata": {},
   "outputs": [
    {
     "name": "stdout",
     "output_type": "stream",
     "text": [
      "The probability of chip failure obtained is:  0.234962513468844\n",
      "The mean time between failure for chip obtained is:  373.370548822240\n"
     ]
    }
   ],
   "source": [
    "P_Fail, MTTF= eval.Chip_MTTF_Model(400, 30, 50, 1, 1,100)\n",
    "\n",
    "print(\"The probability of chip failure obtained is: \", P_Fail)\n",
    "\n",
    "print(\"The mean time between failure for chip obtained is: \", MTTF)"
   ]
  },
  {
   "cell_type": "markdown",
   "metadata": {},
   "source": [
    "Now, let us obtain the drone failure probability by combining all three failure modes. (Assuming default values)"
   ]
  },
  {
   "cell_type": "code",
   "execution_count": 11,
   "metadata": {},
   "outputs": [
    {
     "name": "stdout",
     "output_type": "stream",
     "text": [
      "The probability of overall drone failure obtained is:  0.568003741219376\n",
      "The mean time between failure for complete drone is:  373.370548822240\n"
     ]
    }
   ],
   "source": [
    "P_Fail, MTTF = eval.Drone_Risk_Calc()\n",
    "\n",
    "print(\"The probability of overall drone failure obtained is: \", P_Fail)\n",
    "\n",
    "print(\"The mean time between failure for complete drone is: \", MTTF)"
   ]
  },
  {
   "cell_type": "markdown",
   "metadata": {},
   "source": [
    "Hence, by obtaining the probability of failure for three main components of a drone, we conclude the prediction of proability of failure for a drone. "
   ]
  }
 ],
 "metadata": {
  "kernelspec": {
   "display_name": "Python 3 (ipykernel)",
   "language": "python",
   "name": "python3"
  },
  "language_info": {
   "codemirror_mode": {
    "name": "ipython",
    "version": 3
   },
   "file_extension": ".py",
   "mimetype": "text/x-python",
   "name": "python",
   "nbconvert_exporter": "python",
   "pygments_lexer": "ipython3",
   "version": "3.8.12"
  }
 },
 "nbformat": 4,
 "nbformat_minor": 4
}
